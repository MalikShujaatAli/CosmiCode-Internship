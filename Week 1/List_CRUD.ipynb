{
 "cells": [
  {
   "cell_type": "markdown",
   "id": "51da8554",
   "metadata": {},
   "source": [
    "## Create"
   ]
  },
  {
   "cell_type": "code",
   "execution_count": 29,
   "id": "88604331",
   "metadata": {},
   "outputs": [
    {
     "name": "stdout",
     "output_type": "stream",
     "text": [
      "<class 'dict'>\n",
      "{'name': 'Shujaat', 'age': '22', 'Semester': 6, 'University': 'UET'}\n"
     ]
    }
   ],
   "source": [
    "data={ 'name': 'Shujaat', 'age': '22', 'Semester': 6, 'University': \"UET\"}\n",
    "print(type(data))\n",
    "print(data)"
   ]
  },
  {
   "cell_type": "markdown",
   "id": "ca4e6f20",
   "metadata": {},
   "source": [
    "## Read"
   ]
  },
  {
   "cell_type": "code",
   "execution_count": 30,
   "id": "4fbe5c08",
   "metadata": {},
   "outputs": [
    {
     "name": "stdout",
     "output_type": "stream",
     "text": [
      "22\n",
      "Shujaat\n",
      "dict_keys(['name', 'age', 'Semester', 'University'])\n",
      "dict_values(['Shujaat', '22', 6, 'UET'])\n"
     ]
    }
   ],
   "source": [
    "print(data.get('age'))\n",
    "print(data['name'.lower()])\n",
    "print(data.keys())\n",
    "print(data.values())\n"
   ]
  },
  {
   "cell_type": "markdown",
   "id": "7424a380",
   "metadata": {},
   "source": [
    "## Update"
   ]
  },
  {
   "cell_type": "code",
   "execution_count": 31,
   "id": "0b0e2e13",
   "metadata": {},
   "outputs": [
    {
     "name": "stdout",
     "output_type": "stream",
     "text": [
      "{'name': 'Shujaat', 'age': 23, 'Semester': 6, 'University': 'UET', 'roll number': '2022-CS-679'}\n"
     ]
    }
   ],
   "source": [
    "data.update({'age': 23, 'roll number': '2022-CS-679'})\n",
    "print(data)"
   ]
  },
  {
   "cell_type": "markdown",
   "id": "66b32dea",
   "metadata": {},
   "source": [
    "## Delete"
   ]
  },
  {
   "cell_type": "code",
   "execution_count": 40,
   "id": "c3f23c7e",
   "metadata": {},
   "outputs": [
    {
     "name": "stdout",
     "output_type": "stream",
     "text": [
      "UET\n",
      "None\n"
     ]
    }
   ],
   "source": [
    "popped=data.pop('University')\n",
    "print(popped)\n",
    "print(data.clear())"
   ]
  }
 ],
 "metadata": {
  "kernelspec": {
   "display_name": "Python 3",
   "language": "python",
   "name": "python3"
  },
  "language_info": {
   "codemirror_mode": {
    "name": "ipython",
    "version": 3
   },
   "file_extension": ".py",
   "mimetype": "text/x-python",
   "name": "python",
   "nbconvert_exporter": "python",
   "pygments_lexer": "ipython3",
   "version": "3.13.5"
  }
 },
 "nbformat": 4,
 "nbformat_minor": 5
}
