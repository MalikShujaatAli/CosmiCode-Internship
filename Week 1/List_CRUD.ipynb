{
 "cells": [
  {
   "cell_type": "markdown",
   "id": "51da8554",
   "metadata": {},
   "source": [
    "## Create"
   ]
  },
  {
   "cell_type": "code",
   "execution_count": null,
   "id": "88604331",
   "metadata": {},
   "outputs": [],
   "source": [
    "days=['Monday','Tudesday','Wednesday','Thursday']"
   ]
  },
  {
   "cell_type": "markdown",
   "id": "ca4e6f20",
   "metadata": {},
   "source": [
    "## Read"
   ]
  },
  {
   "cell_type": "code",
   "execution_count": null,
   "id": "4fbe5c08",
   "metadata": {},
   "outputs": [],
   "source": [
    "print(days)\n",
    "print(days[1])\n",
    "print(days[2:])"
   ]
  },
  {
   "cell_type": "markdown",
   "id": "7424a380",
   "metadata": {},
   "source": [
    "## Update"
   ]
  },
  {
   "cell_type": "code",
   "execution_count": null,
   "id": "0b0e2e13",
   "metadata": {},
   "outputs": [],
   "source": [
    "days.append('Friday')\n",
    "print(days)\n",
    "days.extend(['Saturday','Sunday'])\n",
    "print(days)"
   ]
  },
  {
   "cell_type": "markdown",
   "id": "66b32dea",
   "metadata": {},
   "source": [
    "## Delete"
   ]
  },
  {
   "cell_type": "code",
   "execution_count": null,
   "id": "c3f23c7e",
   "metadata": {},
   "outputs": [],
   "source": [
    "days.remove('Friday')\n",
    "print(days)\n",
    "days.clear()\n",
    "print(days)\n",
    "# del days"
   ]
  }
 ],
 "metadata": {
  "kernelspec": {
   "display_name": "Python 3",
   "language": "python",
   "name": "python3"
  },
  "language_info": {
   "codemirror_mode": {
    "name": "ipython",
    "version": 3
   },
   "file_extension": ".py",
   "mimetype": "text/x-python",
   "name": "python",
   "nbconvert_exporter": "python",
   "pygments_lexer": "ipython3",
   "version": "3.13.5"
  }
 },
 "nbformat": 4,
 "nbformat_minor": 5
}
