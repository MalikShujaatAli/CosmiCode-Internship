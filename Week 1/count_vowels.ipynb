{
 "cells": [
  {
   "cell_type": "code",
   "execution_count": 1,
   "id": "550a6648",
   "metadata": {},
   "outputs": [],
   "source": [
    "text= input(\"Enter your text: \")\n",
    "vowels='aeiouAEIOU'\n",
    "vowel_counter=0"
   ]
  },
  {
   "cell_type": "code",
   "execution_count": 2,
   "id": "71f8c271",
   "metadata": {},
   "outputs": [],
   "source": [
    "for letter in text:\n",
    "    if letter in vowels:\n",
    "        vowel_counter+=1"
   ]
  },
  {
   "cell_type": "code",
   "execution_count": 3,
   "id": "691094e3",
   "metadata": {},
   "outputs": [
    {
     "name": "stdout",
     "output_type": "stream",
     "text": [
      "Total vowels are: 8\n"
     ]
    }
   ],
   "source": [
    "print(f'Total vowels are: {vowel_counter}')"
   ]
  }
 ],
 "metadata": {
  "kernelspec": {
   "display_name": "Python 3",
   "language": "python",
   "name": "python3"
  },
  "language_info": {
   "codemirror_mode": {
    "name": "ipython",
    "version": 3
   },
   "file_extension": ".py",
   "mimetype": "text/x-python",
   "name": "python",
   "nbconvert_exporter": "python",
   "pygments_lexer": "ipython3",
   "version": "3.13.5"
  }
 },
 "nbformat": 4,
 "nbformat_minor": 5
}
