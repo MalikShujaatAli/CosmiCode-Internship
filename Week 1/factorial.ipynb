{
 "cells": [
  {
   "cell_type": "code",
   "execution_count": 15,
   "id": "1874af14",
   "metadata": {},
   "outputs": [
    {
     "name": "stdout",
     "output_type": "stream",
     "text": [
      "Factorial of 10 is: 3628800\n"
     ]
    }
   ],
   "source": [
    "def factorial(n):\n",
    "    if n < 0:\n",
    "        return \"Please enter a non-negative number\"\n",
    "    result = 1\n",
    "    for i in range(1, n + 1):\n",
    "        result = result * i\n",
    "    return result\n",
    "\n",
    "\n",
    "num = int(input(\"Enter a number for factorial: \"))\n",
    "fact_result = factorial(num)\n",
    "print(\"Factorial of\", num, \"is:\", fact_result)"
   ]
  }
 ],
 "metadata": {
  "kernelspec": {
   "display_name": "Python 3",
   "language": "python",
   "name": "python3"
  },
  "language_info": {
   "codemirror_mode": {
    "name": "ipython",
    "version": 3
   },
   "file_extension": ".py",
   "mimetype": "text/x-python",
   "name": "python",
   "nbconvert_exporter": "python",
   "pygments_lexer": "ipython3",
   "version": "3.13.5"
  }
 },
 "nbformat": 4,
 "nbformat_minor": 5
}
