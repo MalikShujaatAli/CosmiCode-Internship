{
 "cells": [
  {
   "cell_type": "code",
   "execution_count": 1,
   "id": "50002fa5",
   "metadata": {},
   "outputs": [
    {
     "name": "stdout",
     "output_type": "stream",
     "text": [
      "Fibonacci series: [0, 1, 1, 2, 3, 5, 8, 13, 21, 34]\n"
     ]
    }
   ],
   "source": [
    "def fibonacci(n):\n",
    "    if n <= 0:\n",
    "        return \"Please enter a positive number\"\n",
    "    series = [0]\n",
    "    if n == 1:\n",
    "        return series\n",
    "    series.append(1)\n",
    "    for i in range(2, n):\n",
    "        next_num = series[i-1] + series[i-2]\n",
    "        series.append(next_num)\n",
    "    return series\n",
    "\n",
    "num = int(input(\"Enter how many Fibonacci numbers you want: \"))\n",
    "fib_result = fibonacci(num)\n",
    "print(\"Fibonacci series:\", fib_result)"
   ]
  }
 ],
 "metadata": {
  "kernelspec": {
   "display_name": "Python 3",
   "language": "python",
   "name": "python3"
  },
  "language_info": {
   "codemirror_mode": {
    "name": "ipython",
    "version": 3
   },
   "file_extension": ".py",
   "mimetype": "text/x-python",
   "name": "python",
   "nbconvert_exporter": "python",
   "pygments_lexer": "ipython3",
   "version": "3.13.5"
  }
 },
 "nbformat": 4,
 "nbformat_minor": 5
}
