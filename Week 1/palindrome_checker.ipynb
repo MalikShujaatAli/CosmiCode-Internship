{
 "cells": [
  {
   "cell_type": "code",
   "execution_count": 9,
   "id": "f662f42f",
   "metadata": {},
   "outputs": [],
   "source": [
    "text=input(\"Enter your text: \")\n",
    "reversed=''"
   ]
  },
  {
   "cell_type": "code",
   "execution_count": 10,
   "id": "8df67e12",
   "metadata": {},
   "outputs": [],
   "source": [
    "for letter in text:\n",
    "    reversed=letter + reversed"
   ]
  },
  {
   "cell_type": "code",
   "execution_count": 11,
   "id": "e681bea2",
   "metadata": {},
   "outputs": [],
   "source": [
    "clean_text=text.lower()\n",
    "clean_text=clean_text.replace(\" \", \"\")\n",
    "check=clean_text==reversed.lower().replace(\" \",\"\")"
   ]
  },
  {
   "cell_type": "code",
   "execution_count": 12,
   "id": "125dea53",
   "metadata": {},
   "outputs": [
    {
     "name": "stdout",
     "output_type": "stream",
     "text": [
      "Is the string a palindrome? True\n"
     ]
    }
   ],
   "source": [
    "print(f\"Is the string a palindrome? {check}\")"
   ]
  }
 ],
 "metadata": {
  "kernelspec": {
   "display_name": "Python 3",
   "language": "python",
   "name": "python3"
  },
  "language_info": {
   "codemirror_mode": {
    "name": "ipython",
    "version": 3
   },
   "file_extension": ".py",
   "mimetype": "text/x-python",
   "name": "python",
   "nbconvert_exporter": "python",
   "pygments_lexer": "ipython3",
   "version": "3.13.5"
  }
 },
 "nbformat": 4,
 "nbformat_minor": 5
}
