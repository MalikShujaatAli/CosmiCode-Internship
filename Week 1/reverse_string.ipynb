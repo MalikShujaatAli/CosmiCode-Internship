{
 "cells": [
  {
   "cell_type": "code",
   "execution_count": null,
   "id": "b51bcb65",
   "metadata": {},
   "outputs": [],
   "source": [
    "text=input(\"Enter your text: \")\n",
    "reversed=''"
   ]
  },
  {
   "cell_type": "code",
   "execution_count": null,
   "id": "1a2dd698",
   "metadata": {},
   "outputs": [],
   "source": [
    "for letter in text:\n",
    "    reversed=letter + reversed"
   ]
  },
  {
   "cell_type": "code",
   "execution_count": null,
   "id": "1e8905b6",
   "metadata": {},
   "outputs": [],
   "source": [
    "print(f\"Your input was: {text}\")\n",
    "print(f\"Your input was: {reversed}\")"
   ]
  }
 ],
 "metadata": {
  "kernelspec": {
   "display_name": "Python 3",
   "language": "python",
   "name": "python3"
  },
  "language_info": {
   "codemirror_mode": {
    "name": "ipython",
    "version": 3
   },
   "file_extension": ".py",
   "mimetype": "text/x-python",
   "name": "python",
   "nbconvert_exporter": "python",
   "pygments_lexer": "ipython3",
   "version": "3.13.5"
  }
 },
 "nbformat": 4,
 "nbformat_minor": 5
}
