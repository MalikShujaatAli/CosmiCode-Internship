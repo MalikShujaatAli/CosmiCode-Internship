{
 "cells": [
  {
   "cell_type": "markdown",
   "id": "4a8a209f",
   "metadata": {},
   "source": [
    "## Create"
   ]
  },
  {
   "cell_type": "code",
   "execution_count": 29,
   "id": "0d295381",
   "metadata": {},
   "outputs": [
    {
     "name": "stdout",
     "output_type": "stream",
     "text": [
      "<class 'set'>\n",
      "{'strawberry', 'banana', 'apple'}\n"
     ]
    }
   ],
   "source": [
    "fruits={'apple','banana','strawberry'}\n",
    "print(type(fruits))\n",
    "print(fruits)"
   ]
  },
  {
   "cell_type": "markdown",
   "id": "4fe70e28",
   "metadata": {},
   "source": [
    "## Read"
   ]
  },
  {
   "cell_type": "code",
   "execution_count": 30,
   "id": "64a7e064",
   "metadata": {},
   "outputs": [
    {
     "name": "stdout",
     "output_type": "stream",
     "text": [
      "{'strawberry', 'banana', 'apple'}\n",
      "True\n"
     ]
    }
   ],
   "source": [
    "print(fruits)\n",
    "print('apple' in fruits)"
   ]
  },
  {
   "cell_type": "markdown",
   "id": "986763f4",
   "metadata": {},
   "source": [
    "## Update"
   ]
  },
  {
   "cell_type": "code",
   "execution_count": 31,
   "id": "c2a476cd",
   "metadata": {},
   "outputs": [
    {
     "name": "stdout",
     "output_type": "stream",
     "text": [
      "{'pine apple', 'strawberry', 'banana', 'apple'}\n",
      "{'pine apple', 'strawberry', 'banana', 'apple'}\n"
     ]
    }
   ],
   "source": [
    "fruits.add('pine apple')\n",
    "print(fruits)\n",
    "fruits_copy=fruits.copy()\n",
    "print(fruits_copy)"
   ]
  },
  {
   "cell_type": "markdown",
   "id": "80cc2c5a",
   "metadata": {},
   "source": [
    "## Delete"
   ]
  },
  {
   "cell_type": "code",
   "execution_count": null,
   "id": "7c15e28e",
   "metadata": {},
   "outputs": [],
   "source": [
    "fruits.remove('apple')\n",
    "print(fruits)"
   ]
  }
 ],
 "metadata": {
  "kernelspec": {
   "display_name": "Python 3",
   "language": "python",
   "name": "python3"
  },
  "language_info": {
   "codemirror_mode": {
    "name": "ipython",
    "version": 3
   },
   "file_extension": ".py",
   "mimetype": "text/x-python",
   "name": "python",
   "nbconvert_exporter": "python",
   "pygments_lexer": "ipython3",
   "version": "3.13.5"
  }
 },
 "nbformat": 4,
 "nbformat_minor": 5
}
