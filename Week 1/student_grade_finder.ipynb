{
 "cells": [
  {
   "cell_type": "code",
   "execution_count": 1,
   "id": "859557bd",
   "metadata": {},
   "outputs": [],
   "source": [
    "eng=float(input(\"Please enter your marks in English: \"))\n",
    "urd=float(input(\"Please enter your marks in Urdu: \"))\n",
    "sci=float(input(\"Please enter your marks in Science: \"))\n",
    "math=float(input(\"Please enter your marks in Maths: \"))\n",
    "hq=float(input(\"Please enter your marks in Holy Quran: \"))"
   ]
  },
  {
   "cell_type": "code",
   "execution_count": 5,
   "id": "f8710e32",
   "metadata": {},
   "outputs": [
    {
     "name": "stdout",
     "output_type": "stream",
     "text": [
      "Your average marks are : 63.35\n"
     ]
    }
   ],
   "source": [
    "avg=(eng+urd+sci+math+hq)/5\n",
    "print(f\"Your average marks are : {round(avg,2)}\")"
   ]
  },
  {
   "cell_type": "code",
   "execution_count": 6,
   "id": "c45ac21f",
   "metadata": {},
   "outputs": [
    {
     "name": "stdout",
     "output_type": "stream",
     "text": [
      "You have got grade D\n"
     ]
    }
   ],
   "source": [
    "if(avg>=90):\n",
    "    print(\"You have got grade A\")\n",
    "elif (avg>=80):\n",
    "    print(\"You have got grade B\")\n",
    "elif (avg>=70):\n",
    "    print(\"You have got grade C\")\n",
    "elif (avg>=60):\n",
    "    print(\"You have got grade D\")\n",
    "else:\n",
    "    print(\"You have got grade F\")"
   ]
  }
 ],
 "metadata": {
  "kernelspec": {
   "display_name": "Python 3",
   "language": "python",
   "name": "python3"
  },
  "language_info": {
   "codemirror_mode": {
    "name": "ipython",
    "version": 3
   },
   "file_extension": ".py",
   "mimetype": "text/x-python",
   "name": "python",
   "nbconvert_exporter": "python",
   "pygments_lexer": "ipython3",
   "version": "3.13.5"
  }
 },
 "nbformat": 4,
 "nbformat_minor": 5
}
