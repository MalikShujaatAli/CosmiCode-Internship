{
 "cells": [
  {
   "cell_type": "markdown",
   "id": "b845feff",
   "metadata": {},
   "source": [
    "## Create"
   ]
  },
  {
   "cell_type": "code",
   "execution_count": 25,
   "id": "906b41e4",
   "metadata": {},
   "outputs": [
    {
     "data": {
      "text/plain": [
       "tuple"
      ]
     },
     "execution_count": 25,
     "metadata": {},
     "output_type": "execute_result"
    }
   ],
   "source": [
    "even=('2','4','6','8','10')\n",
    "type(even)"
   ]
  },
  {
   "cell_type": "markdown",
   "id": "e9833071",
   "metadata": {},
   "source": [
    "## Read"
   ]
  },
  {
   "cell_type": "code",
   "execution_count": 26,
   "id": "1c5f935f",
   "metadata": {},
   "outputs": [
    {
     "name": "stdout",
     "output_type": "stream",
     "text": [
      "('2', '4', '6', '8', '10')\n",
      "4\n",
      "('6', '8', '10')\n"
     ]
    }
   ],
   "source": [
    "print(even)\n",
    "print(even[1])\n",
    "print(even[2:])"
   ]
  },
  {
   "cell_type": "markdown",
   "id": "c69e5969",
   "metadata": {},
   "source": [
    "## Update"
   ]
  },
  {
   "cell_type": "code",
   "execution_count": 27,
   "id": "e6b222c4",
   "metadata": {},
   "outputs": [
    {
     "name": "stdout",
     "output_type": "stream",
     "text": [
      "('2', '4', '6', '8', '10', '13')\n"
     ]
    }
   ],
   "source": [
    "numbers=even+('13',)\n",
    "print(numbers)"
   ]
  },
  {
   "cell_type": "markdown",
   "id": "b8a4d4cb",
   "metadata": {},
   "source": [
    "## Delete"
   ]
  },
  {
   "cell_type": "code",
   "execution_count": 28,
   "id": "f6e82d1c",
   "metadata": {},
   "outputs": [],
   "source": [
    "del even\n",
    "del numbers"
   ]
  }
 ],
 "metadata": {
  "kernelspec": {
   "display_name": "Python 3",
   "language": "python",
   "name": "python3"
  },
  "language_info": {
   "codemirror_mode": {
    "name": "ipython",
    "version": 3
   },
   "file_extension": ".py",
   "mimetype": "text/x-python",
   "name": "python",
   "nbconvert_exporter": "python",
   "pygments_lexer": "ipython3",
   "version": "3.13.5"
  }
 },
 "nbformat": 4,
 "nbformat_minor": 5
}
