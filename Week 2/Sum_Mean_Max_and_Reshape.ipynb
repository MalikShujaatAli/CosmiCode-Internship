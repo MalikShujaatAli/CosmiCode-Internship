{
 "cells": [
  {
   "cell_type": "code",
   "execution_count": 1,
   "id": "0f24d2c3",
   "metadata": {},
   "outputs": [],
   "source": [
    "import numpy as np"
   ]
  },
  {
   "cell_type": "code",
   "execution_count": 4,
   "id": "727e9e8e",
   "metadata": {},
   "outputs": [
    {
     "name": "stdout",
     "output_type": "stream",
     "text": [
      "[ 2  4  6  8 10]\n",
      "<class 'numpy.ndarray'>\n"
     ]
    }
   ],
   "source": [
    "array= np.array([2,4,6,8,10])\n",
    "print(array)\n",
    "print(type(array))"
   ]
  },
  {
   "cell_type": "code",
   "execution_count": 7,
   "id": "a0b06de4",
   "metadata": {},
   "outputs": [
    {
     "name": "stdout",
     "output_type": "stream",
     "text": [
      "Sum of array is: 30\n",
      "Mean of array is: 6.0\n",
      "Max of array is: 10\n"
     ]
    }
   ],
   "source": [
    "print(f\"Sum of array is: {array.sum()}\")\n",
    "print(f\"Mean of array is: {array.mean()}\")\n",
    "print(f\"Max of array is: {array.max()}\")"
   ]
  },
  {
   "cell_type": "code",
   "execution_count": 13,
   "id": "bb1c8233",
   "metadata": {},
   "outputs": [
    {
     "name": "stdout",
     "output_type": "stream",
     "text": [
      "[1 3 5 2 4 6]\n",
      "Reshapped array is: [[1 3]\n",
      " [5 2]\n",
      " [4 6]]\n"
     ]
    }
   ],
   "source": [
    "# array_2=np.array([[1,3,5],[2,4,6]])\n",
    "array_2=np.array([1,3,5,2,4,6])\n",
    "print(array_2)\n",
    "reshaped_array=array_2.reshape(3,2)\n",
    "print(f\"Reshapped array is: {reshaped_array}\")"
   ]
  }
 ],
 "metadata": {
  "kernelspec": {
   "display_name": "Python 3",
   "language": "python",
   "name": "python3"
  },
  "language_info": {
   "codemirror_mode": {
    "name": "ipython",
    "version": 3
   },
   "file_extension": ".py",
   "mimetype": "text/x-python",
   "name": "python",
   "nbconvert_exporter": "python",
   "pygments_lexer": "ipython3",
   "version": "3.13.5"
  }
 },
 "nbformat": 4,
 "nbformat_minor": 5
}
