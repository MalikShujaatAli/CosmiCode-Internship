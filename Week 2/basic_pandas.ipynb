{
 "cells": [
  {
   "cell_type": "code",
   "execution_count": 1,
   "id": "008040d0",
   "metadata": {},
   "outputs": [],
   "source": [
    "import pandas as pd"
   ]
  },
  {
   "cell_type": "code",
   "execution_count": 2,
   "id": "16098060",
   "metadata": {},
   "outputs": [],
   "source": [
    "df= pd.read_csv(r\"D:\\CosmiCode Internship\\Week 2\\Age Prediction.csv\")"
   ]
  },
  {
   "cell_type": "code",
   "execution_count": 3,
   "id": "5ea27216",
   "metadata": {},
   "outputs": [
    {
     "name": "stdout",
     "output_type": "stream",
     "text": [
      "Columns are: Index(['ID', 'Age_group', 'Age', 'Gender', 'PAQ605', 'Body Mass Index',\n",
      "       'Blood Glucose after fasting', 'Diabetic or not', 'Respondent's Oral',\n",
      "       'Blood Insulin Levels'],\n",
      "      dtype='object')\n"
     ]
    }
   ],
   "source": [
    "print(f\"Columns are: {df.columns}\")"
   ]
  },
  {
   "cell_type": "code",
   "execution_count": 4,
   "id": "fb30569c",
   "metadata": {},
   "outputs": [
    {
     "name": "stdout",
     "output_type": "stream",
     "text": [
      "First 10 rows are are:       ID Age_group   Age  Gender  PAQ605  Body Mass Index  \\\n",
      "0  73564     Adult  61.0       2       2             35.7   \n",
      "1  73568     Adult  26.0       2       2             20.3   \n",
      "2  73576     Adult  16.0       1       2             23.2   \n",
      "3  73577     Adult  32.0       1       2             28.9   \n",
      "4  73580     Adult  38.0       2       1             35.9   \n",
      "5  73581     Adult  50.0       1       2             23.6   \n",
      "6  73587     Adult  14.0       1       2             38.7   \n",
      "7  73596     Adult  57.0       2       2             38.3   \n",
      "8  73607    Senior  75.0       1       2             38.9   \n",
      "9  73610     Adult  43.0       1       1             28.9   \n",
      "\n",
      "   Blood Glucose after fasting  Diabetic or not  Respondent's Oral  \\\n",
      "0                          110                2                150   \n",
      "1                           89                2                 80   \n",
      "2                           89                2                 68   \n",
      "3                          104                2                 84   \n",
      "4                          103                2                 81   \n",
      "5                          110                2                100   \n",
      "6                           94                2                202   \n",
      "7                          107                2                164   \n",
      "8                           89                2                113   \n",
      "9                           90                2                 95   \n",
      "\n",
      "   Blood Insulin Levels  \n",
      "0                 14.91  \n",
      "1                  3.85  \n",
      "2                  6.14  \n",
      "3                 16.15  \n",
      "4                 10.92  \n",
      "5                  6.08  \n",
      "6                 21.11  \n",
      "7                 20.93  \n",
      "8                 17.47  \n",
      "9                  3.24  \n"
     ]
    }
   ],
   "source": [
    "print(f\"First 10 rows are are: {df.head(10)}\")"
   ]
  },
  {
   "cell_type": "code",
   "execution_count": 5,
   "id": "12cd6720",
   "metadata": {},
   "outputs": [
    {
     "name": "stdout",
     "output_type": "stream",
     "text": [
      "Total null values are: ID                             0\n",
      "Age_group                      0\n",
      "Age                            3\n",
      "Gender                         0\n",
      "PAQ605                         0\n",
      "Body Mass Index                0\n",
      "Blood Glucose after fasting    0\n",
      "Diabetic or not                0\n",
      "Respondent's Oral              0\n",
      "Blood Insulin Levels           0\n",
      "dtype: int64\n"
     ]
    }
   ],
   "source": [
    "null_values= df.isnull().sum()\n",
    "print(f\"Total null values are: {null_values}\")"
   ]
  }
 ],
 "metadata": {
  "kernelspec": {
   "display_name": "Python 3",
   "language": "python",
   "name": "python3"
  },
  "language_info": {
   "codemirror_mode": {
    "name": "ipython",
    "version": 3
   },
   "file_extension": ".py",
   "mimetype": "text/x-python",
   "name": "python",
   "nbconvert_exporter": "python",
   "pygments_lexer": "ipython3",
   "version": "3.13.5"
  }
 },
 "nbformat": 4,
 "nbformat_minor": 5
}
