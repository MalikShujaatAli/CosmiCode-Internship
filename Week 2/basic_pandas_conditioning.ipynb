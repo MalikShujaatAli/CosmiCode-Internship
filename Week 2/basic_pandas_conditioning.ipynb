{
 "cells": [
  {
   "cell_type": "code",
   "execution_count": 1,
   "id": "12ab4171",
   "metadata": {},
   "outputs": [],
   "source": [
    "import pandas as pd"
   ]
  },
  {
   "cell_type": "code",
   "execution_count": 2,
   "id": "f354552e",
   "metadata": {},
   "outputs": [],
   "source": [
    "df= pd.read_csv(r\"D:\\CosmiCode Internship\\Week 2\\Age Prediction.csv\")"
   ]
  },
  {
   "cell_type": "code",
   "execution_count": 9,
   "id": "36639e5e",
   "metadata": {},
   "outputs": [
    {
     "name": "stdout",
     "output_type": "stream",
     "text": [
      "         ID Age_group  Age  Gender  PAQ605  Body Mass Index  \\\n",
      "0     73564     Adult   61       2       2             35.7   \n",
      "3     73577     Adult   32       1       2             28.9   \n",
      "4     73580     Adult   38       2       1             35.9   \n",
      "5     73581     Adult   50       1       2             23.6   \n",
      "7     73596     Adult   57       2       2             38.3   \n",
      "...     ...       ...  ...     ...     ...              ...   \n",
      "2271  83702    Senior   80       2       2             27.9   \n",
      "2273  83711     Adult   38       2       2             33.5   \n",
      "2274  83712     Adult   61       1       2             30.0   \n",
      "2275  83713     Adult   34       1       2             23.7   \n",
      "2276  83718     Adult   60       2       2             27.4   \n",
      "\n",
      "      Blood Glucose after fasting  Diabetic or not  Respondent's Oral  \\\n",
      "0                             110                2                150   \n",
      "3                             104                2                 84   \n",
      "4                             103                2                 81   \n",
      "5                             110                2                100   \n",
      "7                             107                2                164   \n",
      "...                           ...              ...                ...   \n",
      "2271                          111                2                 72   \n",
      "2273                          100                2                 73   \n",
      "2274                           93                2                208   \n",
      "2275                          103                2                124   \n",
      "2276                           90                2                108   \n",
      "\n",
      "      Blood Insulin Levels  \n",
      "0                    14.91  \n",
      "3                    16.15  \n",
      "4                    10.92  \n",
      "5                     6.08  \n",
      "7                    20.93  \n",
      "...                    ...  \n",
      "2271                 13.91  \n",
      "2273                  6.53  \n",
      "2274                 13.02  \n",
      "2275                 21.41  \n",
      "2276                  4.99  \n",
      "\n",
      "[1484 rows x 10 columns]\n"
     ]
    }
   ],
   "source": [
    "filtered_data=df[df['Age']>30]\n",
    "print(filtered_data)"
   ]
  }
 ],
 "metadata": {
  "kernelspec": {
   "display_name": "Python 3",
   "language": "python",
   "name": "python3"
  },
  "language_info": {
   "codemirror_mode": {
    "name": "ipython",
    "version": 3
   },
   "file_extension": ".py",
   "mimetype": "text/x-python",
   "name": "python",
   "nbconvert_exporter": "python",
   "pygments_lexer": "ipython3",
   "version": "3.13.5"
  }
 },
 "nbformat": 4,
 "nbformat_minor": 5
}
