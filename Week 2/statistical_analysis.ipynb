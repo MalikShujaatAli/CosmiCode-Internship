{
 "cells": [
  {
   "cell_type": "code",
   "execution_count": 2,
   "id": "a9fe97f7",
   "metadata": {},
   "outputs": [],
   "source": [
    "import pandas as pd"
   ]
  },
  {
   "cell_type": "code",
   "execution_count": 3,
   "id": "ac3bbe5b",
   "metadata": {},
   "outputs": [],
   "source": [
    "df= pd.read_csv(r\"D:\\CosmiCode Internship\\Week 2\\Age Prediction.csv\")"
   ]
  },
  {
   "cell_type": "code",
   "execution_count": 16,
   "id": "be69f936",
   "metadata": {},
   "outputs": [
    {
     "name": "stdout",
     "output_type": "stream",
     "text": [
      "Mean of dataframe is: 41.79587357330992\n",
      "Median of dataframe is: 41.0\n",
      "Mode of dataframe is: 80\n",
      "Min of dataframe is: 12\n",
      "Max of dataframe is: 80\n"
     ]
    }
   ],
   "source": [
    "print(f\"Mean of dataframe is: {df['Age'].mean()}\")\n",
    "print(f\"Median of dataframe is: {df['Age'].median()}\")\n",
    "print(f\"Mode of dataframe is: {df['Age'].mode()[0]}\")\n",
    "print(f\"Min of dataframe is: {df['Age'].min()}\")\n",
    "print(f\"Max of dataframe is: {df['Age'].max()}\")"
   ]
  }
 ],
 "metadata": {
  "kernelspec": {
   "display_name": "Python 3",
   "language": "python",
   "name": "python3"
  },
  "language_info": {
   "codemirror_mode": {
    "name": "ipython",
    "version": 3
   },
   "file_extension": ".py",
   "mimetype": "text/x-python",
   "name": "python",
   "nbconvert_exporter": "python",
   "pygments_lexer": "ipython3",
   "version": "3.13.5"
  }
 },
 "nbformat": 4,
 "nbformat_minor": 5
}
